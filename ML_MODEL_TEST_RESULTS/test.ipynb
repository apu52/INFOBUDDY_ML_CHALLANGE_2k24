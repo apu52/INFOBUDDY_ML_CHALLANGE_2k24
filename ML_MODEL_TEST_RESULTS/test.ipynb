{
 "cells": [
  {
   "cell_type": "code",
   "execution_count": 10,
   "metadata": {},
   "outputs": [],
   "source": [
    "import pandas as pd"
   ]
  },
  {
   "cell_type": "code",
   "execution_count": 11,
   "metadata": {},
   "outputs": [],
   "source": [
    "df = pd.read_csv(\"cleaned_results_item_volume.csv\")"
   ]
  },
  {
   "cell_type": "code",
   "execution_count": 12,
   "metadata": {},
   "outputs": [
    {
     "name": "stdout",
     "output_type": "stream",
     "text": [
      "original_index               0\n",
      "image_link                   0\n",
      "predicted_value              0\n",
      "predicted_value_cleaned    335\n",
      "dtype: int64\n"
     ]
    }
   ],
   "source": [
    "null_counts = df.isnull().sum()\n",
    "print(null_counts)"
   ]
  },
  {
   "cell_type": "code",
   "execution_count": 12,
   "metadata": {},
   "outputs": [
    {
     "name": "stdout",
     "output_type": "stream",
     "text": [
      "No rows with empty 'predicted_value_cleaned' found.\n",
      "Rows with empty 'predicted_value_cleaned' saved to empty_predicted_value_cleaned.csv\n"
     ]
    }
   ],
   "source": [
    "import pandas as pd\n",
    "\n",
    "# Load the cleansed CSV file\n",
    "file_path = 'cleaned_results_item_weight.csv'  # Replace with the actual path to your cleansed CSV file\n",
    "df = pd.read_csv(file_path)\n",
    "\n",
    "# Filter the rows where 'predicted_value_cleaned' is an empty string\n",
    "empty_rows = df[df['predicted_value_cleaned'] == \"\"]\n",
    "\n",
    "# Display the rows with empty 'predicted_value_cleaned'\n",
    "if not empty_rows.empty:\n",
    "    print(\"Rows where 'predicted_value_cleaned' is an empty string:\")\n",
    "    print(empty_rows)\n",
    "else:\n",
    "    print(\"No rows with empty 'predicted_value_cleaned' found.\")\n",
    "\n",
    "# Save the rows with empty strings to a new CSV file for further analysis\n",
    "output_file = 'empty_predicted_value_cleaned.csv'\n",
    "empty_rows.to_csv(output_file, index=False)\n",
    "\n",
    "print(f\"Rows with empty 'predicted_value_cleaned' saved to {output_file}\")\n"
   ]
  },
  {
   "cell_type": "code",
   "execution_count": 10,
   "metadata": {},
   "outputs": [
    {
     "name": "stdout",
     "output_type": "stream",
     "text": [
      "Cleaned data saved to cleaned_results_item_weight.csv\n",
      "original_index             0\n",
      "image_link                 0\n",
      "predicted_value            1\n",
      "predicted_value_cleaned    0\n",
      "dtype: int64\n"
     ]
    }
   ],
   "source": [
    "import pandas as pd\n",
    "import re\n",
    "\n",
    "# Load the CSV file\n",
    "file_path = 'results_item_weight.csv'  # Replace with your actual file path\n",
    "df = pd.read_csv(file_path)\n",
    "\n",
    "# Function to extract and clean the first valid weight value with full unit expansion\n",
    "def clean_weight_value(value):\n",
    "    if pd.isna(value):\n",
    "        return \"\"  # Return empty string for NaN values\n",
    "    \n",
    "    # Regular expressions for weight units and their full forms\n",
    "    weight_unit_mappings = {\n",
    "        'g': 'grams',\n",
    "        'gm': 'grams',\n",
    "        'gram': 'grams',\n",
    "        'kg': 'kilograms',\n",
    "        'kilogram': 'kilograms',\n",
    "        'mg': 'milligrams',\n",
    "        'milligram': 'milligrams',\n",
    "        'mcg': 'micrograms',\n",
    "        'microgram': 'micrograms',\n",
    "        'oz': 'ounces',\n",
    "        'ounce': 'ounces',\n",
    "        'lb': 'pounds',\n",
    "        'lbs': 'pounds',\n",
    "        'pound': 'pounds',\n",
    "        'ton': 'tons',\n",
    "        'tons': 'tons',\n",
    "        'grams': 'grams',\n",
    "        'kilograms': 'kilograms',\n",
    "        'milligrams': 'milligrams',\n",
    "        'micrograms': 'micrograms',\n",
    "        'pounds': 'pounds',\n",
    "        'ounces': 'ounces'\n",
    "    }\n",
    "\n",
    "    # List of valid weight-related units\n",
    "    valid_weight_units = list(weight_unit_mappings.keys())\n",
    "\n",
    "    # Regular expression to match numbers followed by units\n",
    "    match = re.search(r'(\\d+\\.?\\d*)\\s*([a-zA-Z.\\s]+)', value)\n",
    "    if match:\n",
    "        weight, unit = match.groups()\n",
    "        unit = unit.strip().lower().replace('.', '')  # Normalize unit string by removing periods\n",
    "        \n",
    "        # Check if the unit is in the valid weight-related units list\n",
    "        if unit in valid_weight_units:\n",
    "            full_unit = weight_unit_mappings.get(unit, \"\")\n",
    "            if full_unit:\n",
    "                # If weight is 1, make sure the unit is singular\n",
    "                if float(weight) == 1:\n",
    "                    full_unit = full_unit.rstrip('s')  # Remove 's' for singular\n",
    "                return f\"{weight} {full_unit}\"\n",
    "    \n",
    "    # If the unit is not a valid weight-related unit, return an empty string\n",
    "    return \"\"\n",
    "\n",
    "# Apply the cleaning function to the 'predicted_value' column\n",
    "df['predicted_value_cleaned'] = df['predicted_value'].apply(clean_weight_value)\n",
    "\n",
    "# Save the cleaned data to a new CSV file\n",
    "output_file = 'cleaned_results_item_weight.csv'\n",
    "df.to_csv(output_file, index=False)\n",
    "\n",
    "print(f\"Cleaned data saved to {output_file}\")\n",
    "null_counts = df.isnull().sum()\n",
    "print(null_counts)"
   ]
  },
  {
   "cell_type": "code",
   "execution_count": 14,
   "metadata": {},
   "outputs": [
    {
     "data": {
      "text/plain": [
       "3833"
      ]
     },
     "execution_count": 14,
     "metadata": {},
     "output_type": "execute_result"
    }
   ],
   "source": [
    "import pandas as pd\n",
    "df = pd.read_csv(\"cleaned_results_item_volume.csv\")\n",
    "len(df)"
   ]
  },
  {
   "cell_type": "code",
   "execution_count": 1,
   "metadata": {},
   "outputs": [],
   "source": [
    "import pandas as pd\n",
    "import numpy as np\n",
    "df_large = pd.DataFrame(index=range(131288))\n",
    "df_large['prediction'] = np.nan  # Initialize prediction column with NaN\n",
    "csv_file_list = [r\"cleaned_results_item_weight.csv\",\n",
    "                          r\"cleaned_results_wattage_values.csv\",\n",
    "                          r\"cleaned_file_height.csv\",\n",
    "                          r\"cleaned_results_voltage_values.csv\",\n",
    "                          r\"cleaned_results_item_volume.csv\"]\n",
    "\n",
    "\n",
    "def process_csv_files(csv_file_list):\n",
    "    for csv_file in csv_file_list:\n",
    "        df_input = pd.read_csv(csv_file)\n",
    "\n",
    "        df_input.set_index('index', inplace=True)\n",
    "\n",
    "        df_large.loc[df_input.index, 'prediction'] = df_input['prediction']\n",
    "\n",
    "    df_large.to_csv('updated_large_dataframe.csv')\n",
    "\n",
    "process_csv_files(csv_file_list)"
   ]
  }
 ],
 "metadata": {
  "kernelspec": {
   "display_name": "Python 3",
   "language": "python",
   "name": "python3"
  },
  "language_info": {
   "codemirror_mode": {
    "name": "ipython",
    "version": 3
   },
   "file_extension": ".py",
   "mimetype": "text/x-python",
   "name": "python",
   "nbconvert_exporter": "python",
   "pygments_lexer": "ipython3",
   "version": "3.10.9"
  }
 },
 "nbformat": 4,
 "nbformat_minor": 2
}
